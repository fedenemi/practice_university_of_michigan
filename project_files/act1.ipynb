{
  "nbformat": 4,
  "nbformat_minor": 0,
  "metadata": {
    "colab": {
      "name": "act1.ipynb",
      "provenance": [],
      "collapsed_sections": [],
      "authorship_tag": "ABX9TyMTfaRpBr5e6Tq2Wc6wqdk3",
      "include_colab_link": true
    },
    "kernelspec": {
      "name": "python3",
      "display_name": "Python 3"
    },
    "language_info": {
      "name": "python"
    }
  },
  "cells": [
    {
      "cell_type": "markdown",
      "metadata": {
        "id": "view-in-github",
        "colab_type": "text"
      },
      "source": [
        "<a href=\"https://colab.research.google.com/github/fedenemi/practice_university_of_michigan/blob/main/act1.ipynb\" target=\"_parent\"><img src=\"https://colab.research.google.com/assets/colab-badge.svg\" alt=\"Open In Colab\"/></a>"
      ]
    },
    {
      "cell_type": "markdown",
      "metadata": {
        "id": "PKuz8bKSAq_V"
      },
      "source": [
        "Activities based on the course (Coursera) of the University of Michigan: Assignment 2 - Introduction to NLTK"
      ]
    },
    {
      "cell_type": "code",
      "metadata": {
        "colab": {
          "base_uri": "https://localhost:8080/"
        },
        "id": "FTvtR267hwSd",
        "outputId": "774038b7-b22c-43b3-f5bc-594dd65d72ad"
      },
      "source": [
        "#import libraries and download dictionaries, texts which could be analysed\n",
        "\n",
        "import pandas as pd\n",
        "import numpy as np\n",
        "import nltk\n",
        "from nltk.stem import WordNetLemmatizer\n",
        "nltk.download('gutenberg')\n",
        "nltk.download('genesis')\n",
        "nltk.download('inaugural')\n",
        "nltk.download('nps_chat')\n",
        "nltk.download('webtext')\n",
        "nltk.download('treebank')\n",
        "# from nltk.book import FreqDist\n",
        "# from nltk.probability import FreqDist\n",
        "\n",
        "from nltk.book import *\n",
        "import collections\n",
        "from nltk.corpus import words\n",
        "from nltk.metrics.distance import jaccard_distance\n",
        "from nltk.util import ngrams\n",
        "from nltk.metrics.distance import edit_distance\n",
        "\n",
        "nltk.download('punkt')\n",
        "nltk.download('wordnet')\n",
        "nltk.download('averaged_perceptron_tagger')\n",
        "nltk.download('words')\n"
      ],
      "execution_count": 1,
      "outputs": [
        {
          "output_type": "stream",
          "text": [
            "[nltk_data] Downloading package gutenberg to /root/nltk_data...\n",
            "[nltk_data]   Unzipping corpora/gutenberg.zip.\n",
            "[nltk_data] Downloading package genesis to /root/nltk_data...\n",
            "[nltk_data]   Unzipping corpora/genesis.zip.\n",
            "[nltk_data] Downloading package inaugural to /root/nltk_data...\n",
            "[nltk_data]   Unzipping corpora/inaugural.zip.\n",
            "[nltk_data] Downloading package nps_chat to /root/nltk_data...\n",
            "[nltk_data]   Unzipping corpora/nps_chat.zip.\n",
            "[nltk_data] Downloading package webtext to /root/nltk_data...\n",
            "[nltk_data]   Unzipping corpora/webtext.zip.\n",
            "[nltk_data] Downloading package treebank to /root/nltk_data...\n",
            "[nltk_data]   Unzipping corpora/treebank.zip.\n",
            "*** Introductory Examples for the NLTK Book ***\n",
            "Loading text1, ..., text9 and sent1, ..., sent9\n",
            "Type the name of the text or sentence to view it.\n",
            "Type: 'texts()' or 'sents()' to list the materials.\n",
            "text1: Moby Dick by Herman Melville 1851\n",
            "text2: Sense and Sensibility by Jane Austen 1811\n",
            "text3: The Book of Genesis\n",
            "text4: Inaugural Address Corpus\n",
            "text5: Chat Corpus\n",
            "text6: Monty Python and the Holy Grail\n",
            "text7: Wall Street Journal\n",
            "text8: Personals Corpus\n",
            "text9: The Man Who Was Thursday by G . K . Chesterton 1908\n",
            "[nltk_data] Downloading package punkt to /root/nltk_data...\n",
            "[nltk_data]   Unzipping tokenizers/punkt.zip.\n",
            "[nltk_data] Downloading package wordnet to /root/nltk_data...\n",
            "[nltk_data]   Unzipping corpora/wordnet.zip.\n",
            "[nltk_data] Downloading package averaged_perceptron_tagger to\n",
            "[nltk_data]     /root/nltk_data...\n",
            "[nltk_data]   Unzipping taggers/averaged_perceptron_tagger.zip.\n",
            "[nltk_data] Downloading package words to /root/nltk_data...\n",
            "[nltk_data]   Unzipping corpora/words.zip.\n"
          ],
          "name": "stdout"
        },
        {
          "output_type": "execute_result",
          "data": {
            "text/plain": [
              "True"
            ]
          },
          "metadata": {
            "tags": []
          },
          "execution_count": 1
        }
      ]
    },
    {
      "cell_type": "code",
      "metadata": {
        "id": "kQkGd8T5paZy",
        "colab": {
          "base_uri": "https://localhost:8080/"
        },
        "outputId": "a8dc07b1-ee90-41ce-d253-7f32f8682a3b"
      },
      "source": [
        "# length of the unique tokenized and lemmatized words of the string\n",
        "\n",
        "colossus=\"\"\"\n",
        "Not like the brazen giant of Greek fame,\n",
        "With conquering limbs astride from land to land;\n",
        "Here at our sea-washed, sunset gates shall stand\n",
        "A mighty woman with a torch, whose flame\n",
        "Is the imprisoned lightning, and her name\n",
        "Mother of Exiles. From her beacon-hand\n",
        "Glows world-wide welcome; her mild eyes command\n",
        "The air-bridged harbor that twin cities frame.\n",
        "\"\"\"\n",
        "texttok=nltk.word_tokenize(colossus)\n",
        "lem=WordNetLemmatizer()\n",
        "text=[lem.lemmatize(w) for w in texttok]\n",
        "len(set(text))"
      ],
      "execution_count": 4,
      "outputs": [
        {
          "output_type": "execute_result",
          "data": {
            "text/plain": [
              "57"
            ]
          },
          "metadata": {
            "tags": []
          },
          "execution_count": 4
        }
      ]
    },
    {
      "cell_type": "code",
      "metadata": {
        "colab": {
          "base_uri": "https://localhost:8080/"
        },
        "id": "rAofp8fnA-gj",
        "outputId": "91b5f81e-cf7d-4114-84bc-a38fe1f56593"
      },
      "source": [
        "# list of most frequent words and their frequencies in tuples\n",
        "srs=pd.Series(dist).sort_values(ascending=False).head(5)\n",
        "list(srs.items())"
      ],
      "execution_count": null,
      "outputs": [
        {
          "output_type": "execute_result",
          "data": {
            "text/plain": [
              "[(',', 4), ('her', 3), ('land', 2), ('.', 2), ('the', 2)]"
            ]
          },
          "metadata": {
            "tags": []
          },
          "execution_count": 78
        }
      ]
    },
    {
      "cell_type": "code",
      "metadata": {
        "colab": {
          "base_uri": "https://localhost:8080/"
        },
        "id": "SfcUjw1cBJZ1",
        "outputId": "12d5fba4-f215-4bd6-9a48-40e9b6f7e146"
      },
      "source": [
        "# descending order of the string words and their frequencies for those with more than one instance and written in alphabetical characters\n",
        "\n",
        "dist=FreqDist(texttok)\n",
        "sorted([(dist[w],w) for w in texttok if dist[w]>1 and w.isalpha()],reverse=True)"
      ],
      "execution_count": null,
      "outputs": [
        {
          "output_type": "execute_result",
          "data": {
            "text/plain": [
              "[(3, 'her'),\n",
              " (3, 'her'),\n",
              " (3, 'her'),\n",
              " (2, 'the'),\n",
              " (2, 'the'),\n",
              " (2, 'of'),\n",
              " (2, 'of'),\n",
              " (2, 'land'),\n",
              " (2, 'land')]"
            ]
          },
          "metadata": {
            "tags": []
          },
          "execution_count": 79
        }
      ]
    },
    {
      "cell_type": "code",
      "metadata": {
        "id": "r2-d5RnwCYel",
        "colab": {
          "base_uri": "https://localhost:8080/"
        },
        "outputId": "c1c376c0-7fc3-42cb-d268-8f4cf04d9db1"
      },
      "source": [
        "#sentence with more than 17 tokens (although there are 2 sentences in total)\n",
        "senttok=nltk.sent_tokenize(colossus)\n",
        "[(s, len(s.split())) for s in senttok if len(s.split())>17]"
      ],
      "execution_count": 5,
      "outputs": [
        {
          "output_type": "execute_result",
          "data": {
            "text/plain": [
              "[('\\nNot like the brazen giant of Greek fame,\\nWith conquering limbs astride from land to land;\\nHere at our sea-washed, sunset gates shall stand\\nA mighty woman with a torch, whose flame\\nIs the imprisoned lightning, and her name\\nMother of Exiles.',\n",
              "  42)]"
            ]
          },
          "metadata": {
            "tags": []
          },
          "execution_count": 5
        }
      ]
    },
    {
      "cell_type": "code",
      "metadata": {
        "colab": {
          "base_uri": "https://localhost:8080/"
        },
        "id": "UjQSe-LA0ezS",
        "outputId": "de48cbea-8425-46cc-8cfe-1b9103a90b03"
      },
      "source": [
        "pt=nltk.pos_tag(text)\n",
        "\n",
        "# structure parts with the highest frequency\n",
        "collections.Counter([a[1] for a in pt]).most_common(5)"
      ],
      "execution_count": null,
      "outputs": [
        {
          "output_type": "execute_result",
          "data": {
            "text/plain": [
              "[('NN', 16), ('JJ', 11), ('IN', 9), ('NNP', 5), ('DT', 4)]"
            ]
          },
          "metadata": {
            "tags": []
          },
          "execution_count": 77
        }
      ]
    }
  ]
}
