{
  "nbformat": 4,
  "nbformat_minor": 0,
  "metadata": {
    "colab": {
      "name": "asign1.ipynb",
      "provenance": [],
      "collapsed_sections": [],
      "authorship_tag": "ABX9TyOsHWUpiuyFGslm3Qg/kuOf",
      "include_colab_link": true
    },
    "kernelspec": {
      "name": "python3",
      "display_name": "Python 3"
    },
    "language_info": {
      "name": "python"
    }
  },
  "cells": [
    {
      "cell_type": "markdown",
      "metadata": {
        "id": "view-in-github",
        "colab_type": "text"
      },
      "source": [
        "<a href=\"https://colab.research.google.com/github/fedenemi/practice_university_of_michigan/blob/main/asign1.ipynb\" target=\"_parent\"><img src=\"https://colab.research.google.com/assets/colab-badge.svg\" alt=\"Open In Colab\"/></a>"
      ]
    },
    {
      "cell_type": "markdown",
      "metadata": {
        "id": "iRoMPEC5jCvV"
      },
      "source": [
        "Eight employees at a small company were asked to choose 3 movies that they would most enjoy watching for the upcoming company movie night. These choices are stored in the file `Employee_Movie_Choices.txt`.\n",
        "\n",
        "A second file, `Employee_Relationships.txt`, has data on the relationships between different coworkers. \n",
        "\n",
        "The relationship score has value of `-100` (Enemies) to `+100` (Best Friends). A value of zero means the two employees haven't interacted or are indifferent.\n",
        "\n",
        "Both files are tab delimited."
      ]
    },
    {
      "cell_type": "code",
      "metadata": {
        "id": "egb14X8IjAL2"
      },
      "source": [
        "import networkx as nx\n",
        "import pandas as pd\n",
        "import numpy as np\n",
        "from networkx.algorithms import bipartite\n",
        "\n",
        "\n",
        "# This is the set of employees\n",
        "employees = set(['Pablo',\n",
        "                 'Lee',\n",
        "                 'Georgia',\n",
        "                 'Vincent',\n",
        "                 'Andy',\n",
        "                 'Frida',\n",
        "                 'Joan',\n",
        "                 'Claude'])\n",
        "\n",
        "# This is the set of movies\n",
        "movies = set(['The Shawshank Redemption',\n",
        "              'Forrest Gump',\n",
        "              'The Matrix',\n",
        "              'Anaconda',\n",
        "              'The Social Network',\n",
        "              'The Godfather',\n",
        "              'Monty Python and the Holy Grail',\n",
        "              'Snakes on a Plane',\n",
        "              'Kung Fu Panda',\n",
        "              'The Dark Knight',\n",
        "              'Mean Girls'])\n",
        "\n",
        "\n",
        "# you can use the following function to plot graphs\n",
        "# make sure to comment it out before submitting to the autograder\n",
        "def plot_graph(G, weight_name=None):\n",
        "    '''\n",
        "    G: a networkx G\n",
        "    weight_name: name of the attribute for plotting edge weights (if G is weighted)\n",
        "    '''\n",
        "    %matplotlib notebook\n",
        "    import matplotlib.pyplot as plt\n",
        "    \n",
        "    plt.figure()\n",
        "    pos = nx.spring_layout(G)\n",
        "    edges = G.edges()\n",
        "    weights = None\n",
        "    \n",
        "    if weight_name:\n",
        "        weights = [int(G[u][v][weight_name]) for u,v in edges]\n",
        "        labels = nx.get_edge_attributes(G,weight_name)\n",
        "        nx.draw_networkx_edge_labels(G,pos,edge_labels=labels)\n",
        "        nx.draw_networkx(G, pos, edges=edges, width=weights);\n",
        "    else:\n",
        "        nx.draw_networkx(G, pos, edges=edges);"
      ],
      "execution_count": null,
      "outputs": []
    },
    {
      "cell_type": "markdown",
      "metadata": {
        "id": "nlGsQMekjXA-"
      },
      "source": [
        "Using NetworkX, load in the bipartite graph from Employee_Movie_Choices.txt and return that graph."
      ]
    },
    {
      "cell_type": "code",
      "metadata": {
        "id": "YxjUzViKjbbz"
      },
      "source": [
        "df = pd.read_csv(\"Employee_Movie_Choices.txt\",delimiter=\"\\t\")\n",
        "G=nx.from_pandas_dataframe(df,\"#Employee\",\"Movie\")\n",
        "    \n",
        "plot_graph(G)  # Your Answer Here\n"
      ],
      "execution_count": null,
      "outputs": []
    },
    {
      "cell_type": "markdown",
      "metadata": {
        "id": "aJZvswnnjd1I"
      },
      "source": [
        "Question 2\n",
        "Using the graph from the previous question, add nodes attributes named 'type' where movies have the value 'movie' and employees have the value 'employee' and return that graph."
      ]
    },
    {
      "cell_type": "code",
      "metadata": {
        "id": "VL775VZljg2n"
      },
      "source": [
        "def answer_two():\n",
        "    \n",
        "\n",
        "    df = pd.read_csv(\"Employee_Movie_Choices.txt\",delimiter=\"\\t\")\n",
        "    G=nx.from_pandas_dataframe(df,\"#Employee\",\"Movie\")\n",
        "    for a in list(employees):\n",
        "        G.node[a]['type']=\"Employee\"\n",
        "        \n",
        "    for a in list(movies):\n",
        "        G.node[a]['type']=\"Movie\"\n",
        "    return  G#.nodes(data=True) #G2.nodes() # Your Answer Here\n",
        "\n",
        "answer_two()\n",
        "\n",
        "# Output: <networkx.classes.graph.Graph at 0x7f87f5edb400>"
      ],
      "execution_count": null,
      "outputs": []
    },
    {
      "cell_type": "markdown",
      "metadata": {
        "id": "Dw9VFVzGjqDl"
      },
      "source": [
        "Find a weighted projection of the graph from answer_two which tells us how many movies different pairs of employees have in common."
      ]
    },
    {
      "cell_type": "code",
      "metadata": {
        "id": "0TGLCT7Kjuaf"
      },
      "source": [
        "def answer_three():\n",
        "        \n",
        "    # Your Code Here\n",
        "    G=answer_two()\n",
        "    \n",
        "    return bipartite.weighted_projected_graph(G,employees) # Your Answer Here\n",
        "\n",
        "answer_three()\n",
        "\n",
        "# Output: <networkx.classes.graph.Graph at 0x7f87f5e06cc0>"
      ],
      "execution_count": null,
      "outputs": []
    },
    {
      "cell_type": "markdown",
      "metadata": {
        "id": "3JZJfKeqj1gr"
      },
      "source": [
        "Suppose you'd like to find out if people that have a high relationship score also like the same types of movies.\n",
        "\n",
        "Find the Pearson correlation ( using DataFrame.corr() ) between employee relationship scores and the number of movies they have in common. If two employees have no movies in common it should be treated as a 0, not a missing value, and should be included in the correlation calculation"
      ]
    },
    {
      "cell_type": "code",
      "metadata": {
        "id": "AF7rtzyij2VK"
      },
      "source": [
        "def answer_four():\n",
        "    P = answer_three()\n",
        "    \n",
        "    rs = nx.read_edgelist('Employee_Relationships.txt', data=[('relationship_score', int)])\n",
        "    rs= pd.DataFrame(rs.edges(data=True), columns=['a', 'b', 'relationship_score'])\n",
        "    rs.relationship_score=rs.relationship_score.map(lambda x: x['relationship_score'] if type(x)==dict else None)    \n",
        "    d=pd.DataFrame(P.edges(data=True), columns =['a1', 'a2', 'weight'])\n",
        "    d['weight']=[list(v.values())[0] for k,v in d['weight'].items()]\n",
        "    \n",
        "    \n",
        "    \n",
        "\n",
        "    merged=pd.merge(rs, d, how='left', left_on=['a','b'], right_on=['a1','a2'])\n",
        "    \n",
        "    return merged.fillna(0)[[\"relationship_score\",\"weight\"]].corr().iloc[1,0]\n",
        "\n",
        "\n",
        "answer_four()\n",
        "# Output: 0.5233343182203728"
      ],
      "execution_count": null,
      "outputs": []
    }
  ]
}