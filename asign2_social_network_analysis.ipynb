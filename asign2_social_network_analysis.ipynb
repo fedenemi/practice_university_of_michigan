{
  "nbformat": 4,
  "nbformat_minor": 0,
  "metadata": {
    "colab": {
      "name": "asign2_social_network_analysis.ipynb",
      "provenance": [],
      "collapsed_sections": [],
      "authorship_tag": "ABX9TyMRu6UfC+Und8rv9Z1y5Bee",
      "include_colab_link": true
    },
    "kernelspec": {
      "name": "python3",
      "display_name": "Python 3"
    },
    "language_info": {
      "name": "python"
    }
  },
  "cells": [
    {
      "cell_type": "markdown",
      "metadata": {
        "id": "view-in-github",
        "colab_type": "text"
      },
      "source": [
        "<a href=\"https://colab.research.google.com/github/fedenemi/practice_university_of_michigan/blob/main/asign2_social_network_analysis.ipynb\" target=\"_parent\"><img src=\"https://colab.research.google.com/assets/colab-badge.svg\" alt=\"Open In Colab\"/></a>"
      ]
    },
    {
      "cell_type": "markdown",
      "metadata": {
        "id": "u4rEDB4Kbdjy"
      },
      "source": [
        "In this assignment you will go through the process of importing and analyzing an internal email communication network between employees of a mid-sized manufacturing company. Each node represents an employee and each directed edge between two nodes represents an individual email. The left node represents the sender and the right node represents the recipient."
      ]
    },
    {
      "cell_type": "code",
      "metadata": {
        "id": "Nb5pXzQq6viZ"
      },
      "source": [
        "import networkx as nx"
      ],
      "execution_count": 1,
      "outputs": []
    },
    {
      "cell_type": "markdown",
      "metadata": {
        "id": "WPip25DWbtUx"
      },
      "source": [
        "Using networkx, load up the directed multigraph from email_network.txt. Make sure the node names are strings."
      ]
    },
    {
      "cell_type": "code",
      "metadata": {
        "id": "CfgD_kY863sK"
      },
      "source": [
        "def answer_one():\n",
        "    import pandas as pd\n",
        "    \n",
        "    \n",
        "    # Your Code Here\n",
        "    df=pd.read_csv('email_network.txt',sep=\"\\t\")\n",
        "    return nx.from_pandas_dataframe(df,'#Sender','Recipient',create_using=nx.MultiDiGraph())\n",
        " # Your Answer Here\n",
        "\n",
        "answer_one()\n",
        "\n",
        "# Output: <networkx.classes.multidigraph.MultiDiGraph at 0x7fe92a10f2e8>"
      ],
      "execution_count": null,
      "outputs": []
    },
    {
      "cell_type": "markdown",
      "metadata": {
        "id": "4ibt5uYOcEqd"
      },
      "source": [
        "How many employees and emails are represented in the graph from Question 1?\n",
        "\n",
        "This function should return a tuple (#employees, #emails)."
      ]
    },
    {
      "cell_type": "code",
      "metadata": {
        "id": "3Woeo7AhcIiV"
      },
      "source": [
        "def answer_two():\n",
        "    G=answer_one()\n",
        "        \n",
        "    # Your Code Here\n",
        "    \n",
        "    return len(G.nodes()),len(G.edges())#  Your Answer Here\n",
        "answer_two()\n",
        "# Output: (167, 82927)"
      ],
      "execution_count": null,
      "outputs": []
    },
    {
      "cell_type": "markdown",
      "metadata": {
        "id": "DEtBlphvcRlS"
      },
      "source": [
        "Part 1. Assume that information in this company can only be exchanged through email.\n",
        "\n",
        "When an employee sends an email to another employee, a communication channel has been created, allowing the sender to provide information to the receiver, but not vice versa.\n",
        "\n",
        "Based on the emails sent in the data, is it possible for information to go from every employee to every other employee?\n",
        "\n",
        "Part 2. Now assume that a communication channel established by an email allows information to be exchanged both ways.\n",
        "\n",
        "Based on the emails sent in the data, is it possible for information to go from every employee to every other employee?\n",
        "\n",
        "This function should return a tuple of bools (part1, part2)."
      ]
    },
    {
      "cell_type": "code",
      "metadata": {
        "id": "-0EI23QYcVdR"
      },
      "source": [
        "def answer_three():\n",
        "    G=answer_one()\n",
        "        \n",
        "    # Your Code Here\n",
        "    \n",
        "    return nx.is_strongly_connected(G),nx.is_connected(G.to_undirected()) # Your Answer Here\n",
        "\n",
        "answer_three()\n",
        "# Output: (False, True)"
      ],
      "execution_count": null,
      "outputs": []
    },
    {
      "cell_type": "markdown",
      "metadata": {
        "id": "SB3NIc9ScfB9"
      },
      "source": [
        "How many nodes are in the largest (in terms of nodes) weakly connected component?\n",
        "\n",
        "This function should return an int."
      ]
    },
    {
      "cell_type": "code",
      "metadata": {
        "id": "XqThee4Lcjsl"
      },
      "source": [
        "def answer_four():\n",
        "       \n",
        "    G=answer_one()\n",
        "        \n",
        "    # Your Code Here\n",
        "    \n",
        "    return max(len(w) for w in nx.weakly_connected_components(G)) # Your Answer Here\n",
        "answer_four()\n",
        "# Output: 167"
      ],
      "execution_count": null,
      "outputs": []
    },
    {
      "cell_type": "markdown",
      "metadata": {
        "id": "FVgx4GixcqVm"
      },
      "source": [
        "How many nodes are in the largest (in terms of nodes) strongly connected component?\n",
        "\n",
        "This function should return an int"
      ]
    },
    {
      "cell_type": "code",
      "metadata": {
        "id": "p1ibJa1LcuSH"
      },
      "source": [
        "def answer_five():\n",
        "    G=answer_one()\n",
        "    # Your Code Here\n",
        "    \n",
        "    return len(max(nx.strongly_connected_components(G),key=len))# Your Answer Here\n",
        "answer_five()\n",
        "# Output: 126"
      ],
      "execution_count": null,
      "outputs": []
    },
    {
      "cell_type": "markdown",
      "metadata": {
        "id": "vuLii_S5c2yA"
      },
      "source": [
        "Using the NetworkX function strongly_connected_component_subgraphs, find the subgraph of nodes in a largest strongly connected component. \n",
        "Call this graph G_sc.\n",
        "\n",
        "This function should return a networkx MultiDiGraph named G_sc."
      ]
    },
    {
      "cell_type": "code",
      "metadata": {
        "id": "EUpI70uidBOj"
      },
      "source": [
        "def answer_six():\n",
        "      \n",
        "    sts = nx.strongly_connected_component_subgraphs(answer_one())\n",
        "    G_sc = max(sts, key=len)    \n",
        "    \n",
        "    return G_sc # Your Answer Here\n",
        "​\n",
        "answer_six()\n",
        "# Output: <networkx.classes.multidigraph.MultiDiGraph at 0x7fe9bce2f400>\n"
      ],
      "execution_count": null,
      "outputs": []
    },
    {
      "cell_type": "markdown",
      "metadata": {
        "id": "cGDC_GE5dM9v"
      },
      "source": [
        "What is the average distance between nodes in G_sc?\n",
        "\n",
        "This function should return a float."
      ]
    },
    {
      "cell_type": "code",
      "metadata": {
        "id": "tOU-qgUMdRDB"
      },
      "source": [
        "def answer_seven():\n",
        "    \n",
        "        \n",
        "    # Your Code Here\n",
        "    \n",
        "    return nx.average_shortest_path_length(answer_one())\n",
        "\n",
        "answer_seven()\n",
        "\n",
        "# Output: 1.4043719789336988"
      ],
      "execution_count": null,
      "outputs": []
    },
    {
      "cell_type": "markdown",
      "metadata": {
        "id": "NoIlYzDwdmlV"
      },
      "source": [
        "What is the largest possible distance between two employees in G_sc?\n",
        "\n",
        "This function should return an int."
      ]
    },
    {
      "cell_type": "code",
      "metadata": {
        "id": "z0IGDkY3dpi_"
      },
      "source": [
        "def answer_eight():\n",
        "    g6=answer_six()   \n",
        " \n",
        "        \n",
        "    # Your Code Here\n",
        "    \n",
        "    return nx.algorithms.distance_measures.diameter(g6)\n",
        "\n",
        "answer_eight()\n",
        "# Output: 3"
      ],
      "execution_count": null,
      "outputs": []
    },
    {
      "cell_type": "markdown",
      "metadata": {
        "id": "_m2S2OPtd0KL"
      },
      "source": [
        "What is the set of nodes in G_sc with eccentricity equal to the diameter?\n",
        "\n",
        "This function should return a set of the node(s)."
      ]
    },
    {
      "cell_type": "code",
      "metadata": {
        "id": "lefBmuAHd3Cr"
      },
      "source": [
        "def answer_nine():\n",
        "       \n",
        "    # Your Code Here\n",
        "    \n",
        "    return {nx.periphery(answer_six())[0]}# Your Answer Here\n",
        "answer_nine()\n",
        "# Output: {97}"
      ],
      "execution_count": null,
      "outputs": []
    },
    {
      "cell_type": "markdown",
      "metadata": {
        "id": "cqyL_lyVeC10"
      },
      "source": [
        "What is the set of node(s) in G_sc with eccentricity equal to the radius?\n",
        "\n",
        "This function should return a set of the node(s)."
      ]
    },
    {
      "cell_type": "code",
      "metadata": {
        "id": "hygKqS8jeFnM"
      },
      "source": [
        "def answer_ten():\n",
        "        \n",
        "    # Your Code Here\n",
        "    \n",
        "    return {nx.algorithms.distance_measures.center(answer_six())[0]}# Your Answer Here\n",
        "\n",
        "answer_ten()\n",
        "# Output: {38}"
      ],
      "execution_count": null,
      "outputs": []
    },
    {
      "cell_type": "markdown",
      "metadata": {
        "id": "cTSgdS9LeMhK"
      },
      "source": [
        "Which node in G_sc is connected to the most other nodes by a shortest path of length equal to the diameter of G_sc?\n",
        "\n",
        "How many nodes are connected to this node?\n",
        "\n",
        "\n",
        "This function should return a tuple (name of node, number of satisfied connected nodes)."
      ]
    },
    {
      "cell_type": "code",
      "metadata": {
        "id": "5-KebJWveR5o"
      },
      "source": [
        "def answer_eleven():\n",
        "    \n",
        "    \n",
        "    G_sc=answer_six()\n",
        "    name=max(nx.bidirectional_shortest_path(G_sc,list(answer_nine())[0],answer_eight()))\n",
        "\n",
        "    \n",
        "    paths = {}\n",
        "    \n",
        "    for a in nx.periphery(G_sc):\n",
        "        s = nx.shortest_path(G=G_sc, source=a)\n",
        "        l = [path for path in s.values() if (len(path) -1 == nx.diameter(G_sc))]\n",
        "        paths[a] = len(l)\n",
        "\n",
        "    v = list(paths.values())\n",
        "    k = list(paths.keys())\n",
        "    key = k[v.index(max(v))]    \n",
        "        \n",
        "    return name,paths[key] \n",
        "\n",
        "\n",
        "answer_eleven()\n",
        "# Output: (97, 63)"
      ],
      "execution_count": null,
      "outputs": []
    },
    {
      "cell_type": "markdown",
      "metadata": {
        "id": "oP-22YG5eYY5"
      },
      "source": [
        "Suppose you want to prevent communication from flowing to the node that you found in the previous question from any node in the center of G_sc, what is the smallest number of nodes you would need to remove from the graph (you're not allowed to remove the node from the previous question or the center nodes)?\n",
        "\n",
        "This function should return an integer."
      ]
    },
    {
      "cell_type": "code",
      "metadata": {
        "id": "Cz5Sr9G9ebRF"
      },
      "source": [
        "def answer_twelve():\n",
        "    \n",
        "        \n",
        "    # Your Code Here\n",
        "    \n",
        "    return nx.node_connectivity(answer_six(),97,38)\n",
        "                               \n",
        "answer_twelve()\n",
        "# Output: 1"
      ],
      "execution_count": null,
      "outputs": []
    },
    {
      "cell_type": "markdown",
      "metadata": {
        "id": "HrTj-8SOehBk"
      },
      "source": [
        "Construct an undirected graph G_un using G_sc (you can ignore the attributes).\n",
        "\n",
        "This function should return a networkx Graph."
      ]
    },
    {
      "cell_type": "code",
      "metadata": {
        "id": "f1MkCiW_eoBY"
      },
      "source": [
        "def answer_thirteen():\n",
        "        \n",
        "    # Your Code Here\n",
        "    \n",
        "    return nx.Graph(answer_six().to_undirected())# Your Answer Here\n",
        "answer_thirteen()\n",
        "# Output: <networkx.classes.graph.Graph at 0x7fe928f9fef0>"
      ],
      "execution_count": null,
      "outputs": []
    },
    {
      "cell_type": "markdown",
      "metadata": {
        "id": "STJsYCWvevdD"
      },
      "source": [
        "What is the transitivity and average clustering coefficient of graph G_un?\n",
        "\n",
        "This function should return a tuple (transitivity, avg clustering)."
      ]
    },
    {
      "cell_type": "code",
      "metadata": {
        "id": "jo2ZQuVYexjO"
      },
      "source": [
        "def answer_fourteen():\n",
        "    g_un=answer_thirteen()\n",
        "            \n",
        "    return nx.transitivity(g_un), nx.average_clustering(g_un) \n",
        "answer_fourteen()\n",
        "# Output: (0.570111160700385, 0.6975272437231418)"
      ],
      "execution_count": null,
      "outputs": []
    }
  ]
}