{
  "nbformat": 4,
  "nbformat_minor": 0,
  "metadata": {
    "colab": {
      "name": "asign_3.ipynb",
      "provenance": [],
      "collapsed_sections": [],
      "authorship_tag": "ABX9TyNW11pmqPbewf+JrnmA3r6z",
      "include_colab_link": true
    },
    "kernelspec": {
      "name": "python3",
      "display_name": "Python 3"
    },
    "language_info": {
      "name": "python"
    }
  },
  "cells": [
    {
      "cell_type": "markdown",
      "metadata": {
        "id": "view-in-github",
        "colab_type": "text"
      },
      "source": [
        "<a href=\"https://colab.research.google.com/github/fedenemi/practice_university_of_michigan/blob/main/asign_3.ipynb\" target=\"_parent\"><img src=\"https://colab.research.google.com/assets/colab-badge.svg\" alt=\"Open In Colab\"/></a>"
      ]
    },
    {
      "cell_type": "markdown",
      "metadata": {
        "id": "o_pbeaklF3QJ"
      },
      "source": [
        "Answer questions 1-4 using the network G1, a network of friendships at a university department. Each node corresponds to a person, and an edge indicates friendship.\n",
        "\n",
        "The network has been loaded as networkx graph object G1."
      ]
    },
    {
      "cell_type": "code",
      "metadata": {
        "id": "pRAHcWCGFzOg"
      },
      "source": [
        "import networkx as nx\n",
        "\n",
        "G1 = nx.read_gml('friendships.gml')"
      ],
      "execution_count": null,
      "outputs": []
    },
    {
      "cell_type": "markdown",
      "metadata": {
        "id": "p97_T7GTGBXr"
      },
      "source": [
        "Find the degree centrality, closeness centrality, and normalized betweeness centrality (excluding endpoints) of node 100.\n",
        "\n",
        "This function should return a tuple of floats (degree_centrality, closeness_centrality, betweenness_centrality)."
      ]
    },
    {
      "cell_type": "code",
      "metadata": {
        "id": "IYnoyZ76F-GG"
      },
      "source": [
        "def answer_one():\n",
        "    degree_centrality=nx.degree_centrality(G1)[100]\n",
        "    closeness_centrality=nx.closeness_centrality(G1)[100]\n",
        "    betweenness_centrality=nx.betweenness_centrality(G1,endpoints=False,normalized=True)[100]\n",
        "    \n",
        "        \n",
        "    # Your Code Here\n",
        "    \n",
        "    return degree_centrality, closeness_centrality, betweenness_centrality # Your Answer Here\n",
        "\n",
        "answer_one()\n",
        "# Output: (0.0026501766784452294, 0.2654784240150094, 7.142902633244772e-05)"
      ],
      "execution_count": null,
      "outputs": []
    },
    {
      "cell_type": "markdown",
      "metadata": {
        "id": "9Ub2AZiUGRch"
      },
      "source": [
        "Suppose you are employed by an online shopping website and are tasked with selecting one user in network G1 to send an online shopping voucher to. We expect that the user who receives the voucher will send it to their friends in the network. You want the voucher to reach as many nodes as possible. The voucher can be forwarded to multiple users at the same time, but the travel distance of the voucher is limited to one step, which means if the voucher travels more than one step in this network, it is no longer valid. Apply your knowledge in network centrality to select the best candidate for the voucher.\n",
        "\n",
        "This function should return an integer, the name of the node."
      ]
    },
    {
      "cell_type": "code",
      "metadata": {
        "id": "sKigz9IpGUk2"
      },
      "source": [
        "def answer_two():\n",
        "        \n",
        "    # Your Code Here\n",
        "    cen=nx.degree_centrality(G1)\n",
        "    maxcen=max(cen.values())\n",
        "    \n",
        "    \n",
        "    return ({k for k, v in cen.items() if v == maxcen},*_)[2] #list(cen.keys())[list(cen.values()).index(maxcen)]\n",
        "\n",
        "answer_two()\n",
        "# Output: 0.2654784240150094"
      ],
      "execution_count": null,
      "outputs": []
    },
    {
      "cell_type": "markdown",
      "metadata": {
        "id": "263mOCkiGawS"
      },
      "source": [
        "Now the limit of the voucher’s travel distance has been removed. Because the network is connected, regardless of who you pick, every node in the network will eventually receive the voucher. However, we now want to ensure that the voucher reaches the nodes in the lowest average number of hops.\n",
        "\n",
        "How would you change your selection strategy? Write a function to tell us who is the best candidate in the network under this condition.\n",
        "\n",
        "This function should return an integer, the name of the node."
      ]
    },
    {
      "cell_type": "code",
      "metadata": {
        "id": "J7jGkoy-Gdti"
      },
      "source": [
        "def answer_three():\n",
        "    cen=nx.closeness_centrality(G1)\n",
        "    m=max(cen.values())\n",
        "    \n",
        "    # Your Code Here\n",
        "    \n",
        "    return  list({n for n,v in cen.items() if v==m})[0]# Your Answer Here\n",
        "\n",
        "answer_three()\n",
        "# Output: 23"
      ],
      "execution_count": null,
      "outputs": []
    },
    {
      "cell_type": "markdown",
      "metadata": {
        "id": "fzErxUqSGixI"
      },
      "source": [
        "Assume the restriction on the voucher’s travel distance is still removed, but now a competitor has developed a strategy to remove a person from the network in order to disrupt the distribution of your company’s voucher. Your competitor is specifically targeting people who are often bridges of information flow between other pairs of people. Identify the single riskiest person to be removed under your competitor’s strategy?\n",
        "\n",
        "This function should return an integer, the name of the node."
      ]
    },
    {
      "cell_type": "code",
      "metadata": {
        "id": "p3F-NNPwGnE6"
      },
      "source": [
        "def answer_four():\n",
        "    cen=nx.betweenness_centrality(G1)\n",
        "    m=max(cen.values())\n",
        "        \n",
        "    # Your Code Here\n",
        "    \n",
        "    return list({n for n,v in cen.items() if v==m})[0]# Your Answer Here\n",
        "\n",
        "answer_four()\n",
        "# Output: 333"
      ],
      "execution_count": null,
      "outputs": []
    },
    {
      "cell_type": "markdown",
      "metadata": {
        "id": "_bOHlKBFGqoE"
      },
      "source": [
        "G2 is a directed network of political blogs, where nodes correspond to a blog and edges correspond to links between blogs. Use your knowledge of PageRank and HITS to answer Questions 5-9."
      ]
    },
    {
      "cell_type": "code",
      "metadata": {
        "id": "moFRVGvVGuRO"
      },
      "source": [
        "G2 = nx.read_gml('blogs.gml')"
      ],
      "execution_count": null,
      "outputs": []
    },
    {
      "cell_type": "markdown",
      "metadata": {
        "id": "ZFdqP6MiGwZE"
      },
      "source": [
        "Apply the Scaled Page Rank Algorithm to this network. Find the Page Rank of node 'realclearpolitics.com' with damping value 0.85.\n",
        "\n",
        "This function should return a float."
      ]
    },
    {
      "cell_type": "code",
      "metadata": {
        "id": "CATYYEFvGzHv"
      },
      "source": [
        "def answer_five():\n",
        "    pr=nx.pagerank(G2,alpha=0.85)\n",
        "    \n",
        "        \n",
        "    # Your Code Here\n",
        "    \n",
        "    return pr['realclearpolitics.com'] # Your Answer Here\n",
        "answer_five()"
      ],
      "execution_count": null,
      "outputs": []
    },
    {
      "cell_type": "markdown",
      "metadata": {
        "id": "iXV22K-kG1as"
      },
      "source": [
        "Apply the Scaled Page Rank Algorithm to this network with damping value 0.85. Find the 5 nodes with highest Page Rank.\n",
        "\n",
        "This function should return a list of the top 5 blogs in desending order of Page Rank."
      ]
    },
    {
      "cell_type": "code",
      "metadata": {
        "id": "UDMUIypPG3q4"
      },
      "source": [
        "def answer_six():\n",
        "    pr=nx.pagerank(G2)\n",
        "    top=sorted({(v,k) for k,v in pr.items()},reverse=True)[:5]\n",
        "        \n",
        "    # Your Code Here\n",
        "    \n",
        "    return list(v for k,v in top)# Your Answer Here\n",
        "answer_six()\n",
        "#  Output: ['dailykos.com',\n",
        "#  'atrios.blogspot.com',\n",
        "#  'instapundit.com',\n",
        "#  'blogsforbush.com',\n",
        "#  'talkingpointsmemo.com']"
      ],
      "execution_count": null,
      "outputs": []
    },
    {
      "cell_type": "markdown",
      "metadata": {
        "id": "NEgigq7uHKQ_"
      },
      "source": [
        "Apply the HITS Algorithm to the network to find the hub and authority scores of node 'realclearpolitics.com'.\n",
        "\n",
        "Your result should return a tuple of floats (hub_score, authority_score)."
      ]
    },
    {
      "cell_type": "code",
      "metadata": {
        "id": "7DCLbM9mHMlc"
      },
      "source": [
        "def answer_seven():\n",
        "    hits=nx.hits(G2)\n",
        "    page='realclearpolitics.com'\n",
        "    \n",
        "        \n",
        "    # Your Code Here\n",
        "    \n",
        "    return hits[0][page],hits[1][page]\n",
        "\n",
        "answer_seven()\n",
        "# Output: (0.000324355614091667, 0.003918957645699856)"
      ],
      "execution_count": null,
      "outputs": []
    },
    {
      "cell_type": "markdown",
      "metadata": {
        "id": "IxIm9VFFHSV3"
      },
      "source": [
        "Apply the HITS Algorithm to this network to find the 5 nodes with highest hub scores.\n",
        "\n",
        "This function should return a list of the top 5 blogs in desending order of hub scores."
      ]
    },
    {
      "cell_type": "code",
      "metadata": {
        "id": "JaI7Ku7uHU3m"
      },
      "source": [
        "def answer_eight():\n",
        "    hub=nx.hits(G2)[0]\n",
        "    sorthub=sorted({(v,k) for k,v in hub.items()})[:5]\n",
        "        \n",
        "    # Your Code Here\n",
        "    \n",
        "    return list(v for k,v in sorthub)\n",
        "\n",
        "\n",
        "answer_eight()\n",
        "# Output: ['40ozblog.blogspot.com',\n",
        "#  '4lina.tblog.com',\n",
        "#  '84rules.blog-city.com',\n",
        "#  'abbadabbaduo.blogspot.com',\n",
        "#  'adonai.cc']"
      ],
      "execution_count": null,
      "outputs": []
    },
    {
      "cell_type": "markdown",
      "metadata": {
        "id": "xgGT-DaJHXTP"
      },
      "source": [
        "Apply the HITS Algorithm to this network to find the 5 nodes with highest authority scores.\n",
        "\n",
        "This function should return a list of the top 5 blogs in desending order of authority scores."
      ]
    },
    {
      "cell_type": "code",
      "metadata": {
        "id": "4VLZ7sYNHls2"
      },
      "source": [
        "def answer_nine():\n",
        "    hub=nx.hits(G2)[1]\n",
        "    sorthub=sorted({(v,k) for k,v in hub.items()})[:5]\n",
        "        \n",
        "    # Your Code Here\n",
        "    \n",
        "    return list(v for k,v in sorthub)\n",
        "        \n",
        "answer_nine()\n",
        "\n",
        "# Output:['40ozblog.blogspot.com',\n",
        "#  '4lina.tblog.com',\n",
        "#  '84rules.blog-city.com',\n",
        "#  '95theses.blogspot.com',\n",
        "#  'a100wwe.blogspot.com']"
      ],
      "execution_count": null,
      "outputs": []
    }
  ]
}